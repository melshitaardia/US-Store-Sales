{
  "cells": [
    {
      "cell_type": "markdown",
      "metadata": {
        "id": "fKADPWcFKlj3"
      },
      "source": [
        "# **1. Import Library**"
      ]
    },
    {
      "cell_type": "markdown",
      "metadata": {
        "id": "LgA3ERnVn84N"
      },
      "source": [
        "Pada tahap ini, Anda perlu mengimpor beberapa pustaka (library) Python yang dibutuhkan untuk analisis data dan pembangunan model machine learning."
      ]
    },
    {
      "cell_type": "code",
      "execution_count": 21,
      "metadata": {
        "id": "BlmvjLY9M4Yj"
      },
      "outputs": [],
      "source": [
        "import pandas as pd\n",
        "import numpy as np\n",
        "import matplotlib.pyplot as plt\n",
        "import seaborn as sns\n",
        "from sklearn.model_selection import train_test_split, GridSearchCV, cross_val_score\n",
        "from sklearn.preprocessing import StandardScaler, MinMaxScaler, LabelEncoder\n",
        "from sklearn.ensemble import RandomForestClassifier\n",
        "from sklearn.neighbors import KNeighborsClassifier\n",
        "from sklearn.tree import DecisionTreeClassifier\n",
        "from sklearn.metrics import accuracy_score, f1_score, classification_report, confusion_matrix, precision_score, recall_score\n",
        "from google.colab import drive"
      ]
    },
    {
      "cell_type": "markdown",
      "metadata": {
        "id": "f3YIEnAFKrKL"
      },
      "source": [
        "# **2. Memuat Dataset dari Hasil Clustering**"
      ]
    },
    {
      "cell_type": "markdown",
      "metadata": {
        "id": "Ey3ItwTen_7E"
      },
      "source": [
        "Memuat dataset hasil clustering dari file CSV ke dalam variabel DataFrame."
      ]
    },
    {
      "cell_type": "code",
      "execution_count": 22,
      "metadata": {
        "colab": {
          "base_uri": "https://localhost:8080/",
          "height": 348
        },
        "id": "GHCGNTyrM5fS",
        "outputId": "ef87498a-80d0-4f51-c1c1-65e13b889f65"
      },
      "outputs": [
        {
          "output_type": "stream",
          "name": "stdout",
          "text": [
            "Drive already mounted at /content/drive; to attempt to forcibly remount, call drive.mount(\"/content/drive\", force_remount=True).\n"
          ]
        },
        {
          "output_type": "execute_result",
          "data": {
            "text/plain": [
              "   Area Code        State Market   Market Size    Profit    Margin     Sales  \\\n",
              "0        203  Connecticut   East  Small Market  0.526502  0.522404  0.307263   \n",
              "1        203  Connecticut   East  Small Market  0.503887  0.477596  0.232402   \n",
              "2        203  Connecticut   East  Small Market  0.537102  0.543169  0.344134   \n",
              "3        203  Connecticut   East  Small Market  0.525088  0.520219  0.303911   \n",
              "4        203  Connecticut   East  Small Market  0.524382  0.477596  0.230168   \n",
              "\n",
              "       COGS  Total Expenses  Marketing  Inventory  Budget Profit  Budget COGS  \\\n",
              "0  0.318681        0.327778   0.243590   0.381470       0.488636     0.244444   \n",
              "1  0.247253        0.277778   0.185897   0.397251       0.465909     0.177778   \n",
              "2  0.357143        0.350000   0.269231   0.396063       0.511364     0.244444   \n",
              "3  0.315934        0.327778   0.237179   0.398778       0.488636     0.222222   \n",
              "4  0.247253        0.255556   0.185897   0.397251       0.465909     0.177778   \n",
              "\n",
              "   Budget Margin  Budget Sales Product Type    Product     Type  Cluster  \\\n",
              "0       0.411111      0.236842       Coffee  Columbian  Regular        0   \n",
              "1       0.377778      0.184211       Coffee  Columbian  Regular        0   \n",
              "2       0.433333      0.254386       Coffee  Columbian  Regular        0   \n",
              "3       0.411111      0.228070       Coffee  Columbian  Regular        0   \n",
              "4       0.377778      0.184211       Coffee  Columbian  Regular        0   \n",
              "\n",
              "   Cluster_Selected  \n",
              "0                 0  \n",
              "1                 0  \n",
              "2                 0  \n",
              "3                 0  \n",
              "4                 0  "
            ],
            "text/html": [
              "\n",
              "  <div id=\"df-c5f2e18e-7f8d-4259-bc81-796260548ed8\" class=\"colab-df-container\">\n",
              "    <div>\n",
              "<style scoped>\n",
              "    .dataframe tbody tr th:only-of-type {\n",
              "        vertical-align: middle;\n",
              "    }\n",
              "\n",
              "    .dataframe tbody tr th {\n",
              "        vertical-align: top;\n",
              "    }\n",
              "\n",
              "    .dataframe thead th {\n",
              "        text-align: right;\n",
              "    }\n",
              "</style>\n",
              "<table border=\"1\" class=\"dataframe\">\n",
              "  <thead>\n",
              "    <tr style=\"text-align: right;\">\n",
              "      <th></th>\n",
              "      <th>Area Code</th>\n",
              "      <th>State</th>\n",
              "      <th>Market</th>\n",
              "      <th>Market Size</th>\n",
              "      <th>Profit</th>\n",
              "      <th>Margin</th>\n",
              "      <th>Sales</th>\n",
              "      <th>COGS</th>\n",
              "      <th>Total Expenses</th>\n",
              "      <th>Marketing</th>\n",
              "      <th>Inventory</th>\n",
              "      <th>Budget Profit</th>\n",
              "      <th>Budget COGS</th>\n",
              "      <th>Budget Margin</th>\n",
              "      <th>Budget Sales</th>\n",
              "      <th>Product Type</th>\n",
              "      <th>Product</th>\n",
              "      <th>Type</th>\n",
              "      <th>Cluster</th>\n",
              "      <th>Cluster_Selected</th>\n",
              "    </tr>\n",
              "  </thead>\n",
              "  <tbody>\n",
              "    <tr>\n",
              "      <th>0</th>\n",
              "      <td>203</td>\n",
              "      <td>Connecticut</td>\n",
              "      <td>East</td>\n",
              "      <td>Small Market</td>\n",
              "      <td>0.526502</td>\n",
              "      <td>0.522404</td>\n",
              "      <td>0.307263</td>\n",
              "      <td>0.318681</td>\n",
              "      <td>0.327778</td>\n",
              "      <td>0.243590</td>\n",
              "      <td>0.381470</td>\n",
              "      <td>0.488636</td>\n",
              "      <td>0.244444</td>\n",
              "      <td>0.411111</td>\n",
              "      <td>0.236842</td>\n",
              "      <td>Coffee</td>\n",
              "      <td>Columbian</td>\n",
              "      <td>Regular</td>\n",
              "      <td>0</td>\n",
              "      <td>0</td>\n",
              "    </tr>\n",
              "    <tr>\n",
              "      <th>1</th>\n",
              "      <td>203</td>\n",
              "      <td>Connecticut</td>\n",
              "      <td>East</td>\n",
              "      <td>Small Market</td>\n",
              "      <td>0.503887</td>\n",
              "      <td>0.477596</td>\n",
              "      <td>0.232402</td>\n",
              "      <td>0.247253</td>\n",
              "      <td>0.277778</td>\n",
              "      <td>0.185897</td>\n",
              "      <td>0.397251</td>\n",
              "      <td>0.465909</td>\n",
              "      <td>0.177778</td>\n",
              "      <td>0.377778</td>\n",
              "      <td>0.184211</td>\n",
              "      <td>Coffee</td>\n",
              "      <td>Columbian</td>\n",
              "      <td>Regular</td>\n",
              "      <td>0</td>\n",
              "      <td>0</td>\n",
              "    </tr>\n",
              "    <tr>\n",
              "      <th>2</th>\n",
              "      <td>203</td>\n",
              "      <td>Connecticut</td>\n",
              "      <td>East</td>\n",
              "      <td>Small Market</td>\n",
              "      <td>0.537102</td>\n",
              "      <td>0.543169</td>\n",
              "      <td>0.344134</td>\n",
              "      <td>0.357143</td>\n",
              "      <td>0.350000</td>\n",
              "      <td>0.269231</td>\n",
              "      <td>0.396063</td>\n",
              "      <td>0.511364</td>\n",
              "      <td>0.244444</td>\n",
              "      <td>0.433333</td>\n",
              "      <td>0.254386</td>\n",
              "      <td>Coffee</td>\n",
              "      <td>Columbian</td>\n",
              "      <td>Regular</td>\n",
              "      <td>0</td>\n",
              "      <td>0</td>\n",
              "    </tr>\n",
              "    <tr>\n",
              "      <th>3</th>\n",
              "      <td>203</td>\n",
              "      <td>Connecticut</td>\n",
              "      <td>East</td>\n",
              "      <td>Small Market</td>\n",
              "      <td>0.525088</td>\n",
              "      <td>0.520219</td>\n",
              "      <td>0.303911</td>\n",
              "      <td>0.315934</td>\n",
              "      <td>0.327778</td>\n",
              "      <td>0.237179</td>\n",
              "      <td>0.398778</td>\n",
              "      <td>0.488636</td>\n",
              "      <td>0.222222</td>\n",
              "      <td>0.411111</td>\n",
              "      <td>0.228070</td>\n",
              "      <td>Coffee</td>\n",
              "      <td>Columbian</td>\n",
              "      <td>Regular</td>\n",
              "      <td>0</td>\n",
              "      <td>0</td>\n",
              "    </tr>\n",
              "    <tr>\n",
              "      <th>4</th>\n",
              "      <td>203</td>\n",
              "      <td>Connecticut</td>\n",
              "      <td>East</td>\n",
              "      <td>Small Market</td>\n",
              "      <td>0.524382</td>\n",
              "      <td>0.477596</td>\n",
              "      <td>0.230168</td>\n",
              "      <td>0.247253</td>\n",
              "      <td>0.255556</td>\n",
              "      <td>0.185897</td>\n",
              "      <td>0.397251</td>\n",
              "      <td>0.465909</td>\n",
              "      <td>0.177778</td>\n",
              "      <td>0.377778</td>\n",
              "      <td>0.184211</td>\n",
              "      <td>Coffee</td>\n",
              "      <td>Columbian</td>\n",
              "      <td>Regular</td>\n",
              "      <td>0</td>\n",
              "      <td>0</td>\n",
              "    </tr>\n",
              "  </tbody>\n",
              "</table>\n",
              "</div>\n",
              "    <div class=\"colab-df-buttons\">\n",
              "\n",
              "  <div class=\"colab-df-container\">\n",
              "    <button class=\"colab-df-convert\" onclick=\"convertToInteractive('df-c5f2e18e-7f8d-4259-bc81-796260548ed8')\"\n",
              "            title=\"Convert this dataframe to an interactive table.\"\n",
              "            style=\"display:none;\">\n",
              "\n",
              "  <svg xmlns=\"http://www.w3.org/2000/svg\" height=\"24px\" viewBox=\"0 -960 960 960\">\n",
              "    <path d=\"M120-120v-720h720v720H120Zm60-500h600v-160H180v160Zm220 220h160v-160H400v160Zm0 220h160v-160H400v160ZM180-400h160v-160H180v160Zm440 0h160v-160H620v160ZM180-180h160v-160H180v160Zm440 0h160v-160H620v160Z\"/>\n",
              "  </svg>\n",
              "    </button>\n",
              "\n",
              "  <style>\n",
              "    .colab-df-container {\n",
              "      display:flex;\n",
              "      gap: 12px;\n",
              "    }\n",
              "\n",
              "    .colab-df-convert {\n",
              "      background-color: #E8F0FE;\n",
              "      border: none;\n",
              "      border-radius: 50%;\n",
              "      cursor: pointer;\n",
              "      display: none;\n",
              "      fill: #1967D2;\n",
              "      height: 32px;\n",
              "      padding: 0 0 0 0;\n",
              "      width: 32px;\n",
              "    }\n",
              "\n",
              "    .colab-df-convert:hover {\n",
              "      background-color: #E2EBFA;\n",
              "      box-shadow: 0px 1px 2px rgba(60, 64, 67, 0.3), 0px 1px 3px 1px rgba(60, 64, 67, 0.15);\n",
              "      fill: #174EA6;\n",
              "    }\n",
              "\n",
              "    .colab-df-buttons div {\n",
              "      margin-bottom: 4px;\n",
              "    }\n",
              "\n",
              "    [theme=dark] .colab-df-convert {\n",
              "      background-color: #3B4455;\n",
              "      fill: #D2E3FC;\n",
              "    }\n",
              "\n",
              "    [theme=dark] .colab-df-convert:hover {\n",
              "      background-color: #434B5C;\n",
              "      box-shadow: 0px 1px 3px 1px rgba(0, 0, 0, 0.15);\n",
              "      filter: drop-shadow(0px 1px 2px rgba(0, 0, 0, 0.3));\n",
              "      fill: #FFFFFF;\n",
              "    }\n",
              "  </style>\n",
              "\n",
              "    <script>\n",
              "      const buttonEl =\n",
              "        document.querySelector('#df-c5f2e18e-7f8d-4259-bc81-796260548ed8 button.colab-df-convert');\n",
              "      buttonEl.style.display =\n",
              "        google.colab.kernel.accessAllowed ? 'block' : 'none';\n",
              "\n",
              "      async function convertToInteractive(key) {\n",
              "        const element = document.querySelector('#df-c5f2e18e-7f8d-4259-bc81-796260548ed8');\n",
              "        const dataTable =\n",
              "          await google.colab.kernel.invokeFunction('convertToInteractive',\n",
              "                                                    [key], {});\n",
              "        if (!dataTable) return;\n",
              "\n",
              "        const docLinkHtml = 'Like what you see? Visit the ' +\n",
              "          '<a target=\"_blank\" href=https://colab.research.google.com/notebooks/data_table.ipynb>data table notebook</a>'\n",
              "          + ' to learn more about interactive tables.';\n",
              "        element.innerHTML = '';\n",
              "        dataTable['output_type'] = 'display_data';\n",
              "        await google.colab.output.renderOutput(dataTable, element);\n",
              "        const docLink = document.createElement('div');\n",
              "        docLink.innerHTML = docLinkHtml;\n",
              "        element.appendChild(docLink);\n",
              "      }\n",
              "    </script>\n",
              "  </div>\n",
              "\n",
              "\n",
              "<div id=\"df-2a169ee3-d22f-4470-9f2b-842a0578e13d\">\n",
              "  <button class=\"colab-df-quickchart\" onclick=\"quickchart('df-2a169ee3-d22f-4470-9f2b-842a0578e13d')\"\n",
              "            title=\"Suggest charts\"\n",
              "            style=\"display:none;\">\n",
              "\n",
              "<svg xmlns=\"http://www.w3.org/2000/svg\" height=\"24px\"viewBox=\"0 0 24 24\"\n",
              "     width=\"24px\">\n",
              "    <g>\n",
              "        <path d=\"M19 3H5c-1.1 0-2 .9-2 2v14c0 1.1.9 2 2 2h14c1.1 0 2-.9 2-2V5c0-1.1-.9-2-2-2zM9 17H7v-7h2v7zm4 0h-2V7h2v10zm4 0h-2v-4h2v4z\"/>\n",
              "    </g>\n",
              "</svg>\n",
              "  </button>\n",
              "\n",
              "<style>\n",
              "  .colab-df-quickchart {\n",
              "      --bg-color: #E8F0FE;\n",
              "      --fill-color: #1967D2;\n",
              "      --hover-bg-color: #E2EBFA;\n",
              "      --hover-fill-color: #174EA6;\n",
              "      --disabled-fill-color: #AAA;\n",
              "      --disabled-bg-color: #DDD;\n",
              "  }\n",
              "\n",
              "  [theme=dark] .colab-df-quickchart {\n",
              "      --bg-color: #3B4455;\n",
              "      --fill-color: #D2E3FC;\n",
              "      --hover-bg-color: #434B5C;\n",
              "      --hover-fill-color: #FFFFFF;\n",
              "      --disabled-bg-color: #3B4455;\n",
              "      --disabled-fill-color: #666;\n",
              "  }\n",
              "\n",
              "  .colab-df-quickchart {\n",
              "    background-color: var(--bg-color);\n",
              "    border: none;\n",
              "    border-radius: 50%;\n",
              "    cursor: pointer;\n",
              "    display: none;\n",
              "    fill: var(--fill-color);\n",
              "    height: 32px;\n",
              "    padding: 0;\n",
              "    width: 32px;\n",
              "  }\n",
              "\n",
              "  .colab-df-quickchart:hover {\n",
              "    background-color: var(--hover-bg-color);\n",
              "    box-shadow: 0 1px 2px rgba(60, 64, 67, 0.3), 0 1px 3px 1px rgba(60, 64, 67, 0.15);\n",
              "    fill: var(--button-hover-fill-color);\n",
              "  }\n",
              "\n",
              "  .colab-df-quickchart-complete:disabled,\n",
              "  .colab-df-quickchart-complete:disabled:hover {\n",
              "    background-color: var(--disabled-bg-color);\n",
              "    fill: var(--disabled-fill-color);\n",
              "    box-shadow: none;\n",
              "  }\n",
              "\n",
              "  .colab-df-spinner {\n",
              "    border: 2px solid var(--fill-color);\n",
              "    border-color: transparent;\n",
              "    border-bottom-color: var(--fill-color);\n",
              "    animation:\n",
              "      spin 1s steps(1) infinite;\n",
              "  }\n",
              "\n",
              "  @keyframes spin {\n",
              "    0% {\n",
              "      border-color: transparent;\n",
              "      border-bottom-color: var(--fill-color);\n",
              "      border-left-color: var(--fill-color);\n",
              "    }\n",
              "    20% {\n",
              "      border-color: transparent;\n",
              "      border-left-color: var(--fill-color);\n",
              "      border-top-color: var(--fill-color);\n",
              "    }\n",
              "    30% {\n",
              "      border-color: transparent;\n",
              "      border-left-color: var(--fill-color);\n",
              "      border-top-color: var(--fill-color);\n",
              "      border-right-color: var(--fill-color);\n",
              "    }\n",
              "    40% {\n",
              "      border-color: transparent;\n",
              "      border-right-color: var(--fill-color);\n",
              "      border-top-color: var(--fill-color);\n",
              "    }\n",
              "    60% {\n",
              "      border-color: transparent;\n",
              "      border-right-color: var(--fill-color);\n",
              "    }\n",
              "    80% {\n",
              "      border-color: transparent;\n",
              "      border-right-color: var(--fill-color);\n",
              "      border-bottom-color: var(--fill-color);\n",
              "    }\n",
              "    90% {\n",
              "      border-color: transparent;\n",
              "      border-bottom-color: var(--fill-color);\n",
              "    }\n",
              "  }\n",
              "</style>\n",
              "\n",
              "  <script>\n",
              "    async function quickchart(key) {\n",
              "      const quickchartButtonEl =\n",
              "        document.querySelector('#' + key + ' button');\n",
              "      quickchartButtonEl.disabled = true;  // To prevent multiple clicks.\n",
              "      quickchartButtonEl.classList.add('colab-df-spinner');\n",
              "      try {\n",
              "        const charts = await google.colab.kernel.invokeFunction(\n",
              "            'suggestCharts', [key], {});\n",
              "      } catch (error) {\n",
              "        console.error('Error during call to suggestCharts:', error);\n",
              "      }\n",
              "      quickchartButtonEl.classList.remove('colab-df-spinner');\n",
              "      quickchartButtonEl.classList.add('colab-df-quickchart-complete');\n",
              "    }\n",
              "    (() => {\n",
              "      let quickchartButtonEl =\n",
              "        document.querySelector('#df-2a169ee3-d22f-4470-9f2b-842a0578e13d button');\n",
              "      quickchartButtonEl.style.display =\n",
              "        google.colab.kernel.accessAllowed ? 'block' : 'none';\n",
              "    })();\n",
              "  </script>\n",
              "</div>\n",
              "\n",
              "    </div>\n",
              "  </div>\n"
            ],
            "application/vnd.google.colaboratory.intrinsic+json": {
              "type": "dataframe",
              "variable_name": "df",
              "summary": "{\n  \"name\": \"df\",\n  \"rows\": 4197,\n  \"fields\": [\n    {\n      \"column\": \"Area Code\",\n      \"properties\": {\n        \"dtype\": \"number\",\n        \"std\": 218,\n        \"min\": 203,\n        \"max\": 978,\n        \"num_unique_values\": 154,\n        \"samples\": [\n          262,\n          708,\n          972\n        ],\n        \"semantic_type\": \"\",\n        \"description\": \"\"\n      }\n    },\n    {\n      \"column\": \"State\",\n      \"properties\": {\n        \"dtype\": \"category\",\n        \"num_unique_values\": 20,\n        \"samples\": [\n          \"Connecticut\",\n          \"New Mexico\",\n          \"Utah\"\n        ],\n        \"semantic_type\": \"\",\n        \"description\": \"\"\n      }\n    },\n    {\n      \"column\": \"Market\",\n      \"properties\": {\n        \"dtype\": \"category\",\n        \"num_unique_values\": 4,\n        \"samples\": [\n          \"West\",\n          \"Central\",\n          \"East\"\n        ],\n        \"semantic_type\": \"\",\n        \"description\": \"\"\n      }\n    },\n    {\n      \"column\": \"Market Size\",\n      \"properties\": {\n        \"dtype\": \"category\",\n        \"num_unique_values\": 2,\n        \"samples\": [\n          \"Major Market\",\n          \"Small Market\"\n        ],\n        \"semantic_type\": \"\",\n        \"description\": \"\"\n      }\n    },\n    {\n      \"column\": \"Profit\",\n      \"properties\": {\n        \"dtype\": \"number\",\n        \"std\": 0.07162241653172668,\n        \"min\": 0.0,\n        \"max\": 0.9999999999999996,\n        \"num_unique_values\": 461,\n        \"samples\": [\n          0.3081272084805653,\n          0.4833922261484097\n        ],\n        \"semantic_type\": \"\",\n        \"description\": \"\"\n      }\n    },\n    {\n      \"column\": \"Margin\",\n      \"properties\": {\n        \"dtype\": \"number\",\n        \"std\": 0.10287635921612835,\n        \"min\": 0.0,\n        \"max\": 1.0,\n        \"num_unique_values\": 290,\n        \"samples\": [\n          0.4579234972677596,\n          0.7431693989071039\n        ],\n        \"semantic_type\": \"\",\n        \"description\": \"\"\n      }\n    },\n    {\n      \"column\": \"Sales\",\n      \"properties\": {\n        \"dtype\": \"number\",\n        \"std\": 0.1690695225220124,\n        \"min\": 0.0,\n        \"max\": 0.9999999999999996,\n        \"num_unique_values\": 429,\n        \"samples\": [\n          0.2558659217877094,\n          0.0916201117318435\n        ],\n        \"semantic_type\": \"\",\n        \"description\": \"\"\n      }\n    },\n    {\n      \"column\": \"COGS\",\n      \"properties\": {\n        \"dtype\": \"number\",\n        \"std\": 0.18528999682662553,\n        \"min\": 0.0,\n        \"max\": 1.0,\n        \"num_unique_values\": 173,\n        \"samples\": [\n          0.7005494505494506,\n          0.2637362637362637\n        ],\n        \"semantic_type\": \"\",\n        \"description\": \"\"\n      }\n    },\n    {\n      \"column\": \"Total Expenses\",\n      \"properties\": {\n        \"dtype\": \"number\",\n        \"std\": 0.18021568049242132,\n        \"min\": 0.0,\n        \"max\": 1.0,\n        \"num_unique_values\": 156,\n        \"samples\": [\n          0.3833333333333333,\n          0.8055555555555556\n        ],\n        \"semantic_type\": \"\",\n        \"description\": \"\"\n      }\n    },\n    {\n      \"column\": \"Marketing\",\n      \"properties\": {\n        \"dtype\": \"number\",\n        \"std\": 0.17376723320860338,\n        \"min\": 0.0,\n        \"max\": 1.0,\n        \"num_unique_values\": 102,\n        \"samples\": [\n          0.1217948717948717,\n          0.173076923076923\n        ],\n        \"semantic_type\": \"\",\n        \"description\": \"\"\n      }\n    },\n    {\n      \"column\": \"Inventory\",\n      \"properties\": {\n        \"dtype\": \"number\",\n        \"std\": 0.05588922423911105,\n        \"min\": 0.0,\n        \"max\": 1.0,\n        \"num_unique_values\": 608,\n        \"samples\": [\n          0.3361615475988461,\n          0.3682334973697608\n        ],\n        \"semantic_type\": \"\",\n        \"description\": \"\"\n      }\n    },\n    {\n      \"column\": \"Budget Profit\",\n      \"properties\": {\n        \"dtype\": \"number\",\n        \"std\": 0.08996341783628177,\n        \"min\": 0.0,\n        \"max\": 1.0,\n        \"num_unique_values\": 76,\n        \"samples\": [\n          0.4090909090909091,\n          0.5227272727272727\n        ],\n        \"semantic_type\": \"\",\n        \"description\": \"\"\n      }\n    },\n    {\n      \"column\": \"Budget COGS\",\n      \"properties\": {\n        \"dtype\": \"number\",\n        \"std\": 0.14743868192750098,\n        \"min\": 0.0,\n        \"max\": 1.0,\n        \"num_unique_values\": 41,\n        \"samples\": [\n          0.4888888888888889,\n          0.3111111111111111\n        ],\n        \"semantic_type\": \"\",\n        \"description\": \"\"\n      }\n    },\n    {\n      \"column\": \"Budget Margin\",\n      \"properties\": {\n        \"dtype\": \"number\",\n        \"std\": 0.10263964174054149,\n        \"min\": 0.0,\n        \"max\": 1.0,\n        \"num_unique_values\": 76,\n        \"samples\": [\n          0.2666666666666666,\n          0.5666666666666667\n        ],\n        \"semantic_type\": \"\",\n        \"description\": \"\"\n      }\n    },\n    {\n      \"column\": \"Budget Sales\",\n      \"properties\": {\n        \"dtype\": \"number\",\n        \"std\": 0.13065074411767352,\n        \"min\": 0.0,\n        \"max\": 1.0,\n        \"num_unique_values\": 89,\n        \"samples\": [\n          0.3947368421052631,\n          0.4298245614035088\n        ],\n        \"semantic_type\": \"\",\n        \"description\": \"\"\n      }\n    },\n    {\n      \"column\": \"Product Type\",\n      \"properties\": {\n        \"dtype\": \"category\",\n        \"num_unique_values\": 4,\n        \"samples\": [\n          \"Tea\",\n          \"Herbal Tea\"\n        ],\n        \"semantic_type\": \"\",\n        \"description\": \"\"\n      }\n    },\n    {\n      \"column\": \"Product\",\n      \"properties\": {\n        \"dtype\": \"category\",\n        \"num_unique_values\": 13,\n        \"samples\": [\n          \"Amaretto\",\n          \"Earl Grey\"\n        ],\n        \"semantic_type\": \"\",\n        \"description\": \"\"\n      }\n    },\n    {\n      \"column\": \"Type\",\n      \"properties\": {\n        \"dtype\": \"category\",\n        \"num_unique_values\": 2,\n        \"samples\": [\n          \"Decaf\",\n          \"Regular\"\n        ],\n        \"semantic_type\": \"\",\n        \"description\": \"\"\n      }\n    },\n    {\n      \"column\": \"Cluster\",\n      \"properties\": {\n        \"dtype\": \"number\",\n        \"std\": 1,\n        \"min\": 0,\n        \"max\": 3,\n        \"num_unique_values\": 4,\n        \"samples\": [\n          1,\n          3\n        ],\n        \"semantic_type\": \"\",\n        \"description\": \"\"\n      }\n    },\n    {\n      \"column\": \"Cluster_Selected\",\n      \"properties\": {\n        \"dtype\": \"number\",\n        \"std\": 1,\n        \"min\": 0,\n        \"max\": 3,\n        \"num_unique_values\": 4,\n        \"samples\": [\n          1,\n          3\n        ],\n        \"semantic_type\": \"\",\n        \"description\": \"\"\n      }\n    }\n  ]\n}"
            }
          },
          "metadata": {},
          "execution_count": 22
        }
      ],
      "source": [
        "drive.mount('/content/drive')\n",
        "df = pd.read_csv('/content/drive/MyDrive/Dicoding/Project Belajar Machine Learning untuk Pemula/Dataset_clustering.csv')\n",
        "\n",
        "df.head()\n"
      ]
    },
    {
      "cell_type": "markdown",
      "metadata": {
        "id": "KkPem5eWL2UP"
      },
      "source": [
        "# **3. Data Splitting**"
      ]
    },
    {
      "cell_type": "markdown",
      "metadata": {
        "id": "YYj1rl_JNI9Y"
      },
      "source": [
        "Tahap Data Splitting bertujuan untuk memisahkan dataset menjadi dua bagian: data latih (training set) dan data uji (test set)."
      ]
    },
    {
      "cell_type": "code",
      "execution_count": 23,
      "metadata": {
        "colab": {
          "base_uri": "https://localhost:8080/"
        },
        "id": "OubAW-7ONKVj",
        "outputId": "a117a3ab-5042-4d05-a276-aa7badc888a1"
      },
      "outputs": [
        {
          "output_type": "stream",
          "name": "stdout",
          "text": [
            "Ukuran Data Latih: (3357, 58), Ukuran Data Uji: (840, 58)\n"
          ]
        }
      ],
      "source": [
        "df.dropna(inplace=True)\n",
        "\n",
        "# Pisahkan fitur (X) dan label target (y)\n",
        "X = df.drop(columns=['Cluster_Selected'])\n",
        "y = df['Cluster_Selected']\n",
        "\n",
        "# Pisahkan data menjadi data latih (80%) dan data uji (20%)\n",
        "X_train, X_test, y_train, y_test = train_test_split(X, y, test_size=0.2, random_state=42, stratify=y)\n",
        "\n",
        "# Pisahkan fitur numerik & kategori\n",
        "categorical_features = X.select_dtypes(include=['object']).columns\n",
        "numerical_features = X.select_dtypes(exclude=['object']).columns\n",
        "\n",
        "# One-Hot Encoding untuk fitur kategori\n",
        "X_encoded = pd.get_dummies(X, columns=categorical_features)\n",
        "\n",
        "# Bagi data menjadi train-test\n",
        "X_train, X_test, y_train, y_test = train_test_split(X_encoded, y, test_size=0.2, random_state=42, stratify=y)\n",
        "\n",
        "# Normalisasi hanya untuk fitur numerik\n",
        "scaler = StandardScaler()\n",
        "X_train[numerical_features] = scaler.fit_transform(X_train[numerical_features])\n",
        "X_test[numerical_features] = scaler.transform(X_test[numerical_features])\n",
        "\n",
        "print(f\"Ukuran Data Latih: {X_train.shape}, Ukuran Data Uji: {X_test.shape}\")"
      ]
    },
    {
      "cell_type": "markdown",
      "metadata": {
        "id": "IVPbB03CMhTT"
      },
      "source": [
        "# **4. Membangun Model Klasifikasi**\n"
      ]
    },
    {
      "cell_type": "markdown",
      "metadata": {
        "id": "Ned1pL9zMmBK"
      },
      "source": [
        "## **a. Membangun Model Klasifikasi**"
      ]
    },
    {
      "cell_type": "markdown",
      "metadata": {
        "id": "WAWzPOE4Nkti"
      },
      "source": [
        "Setelah memilih algoritma klasifikasi yang sesuai, langkah selanjutnya adalah melatih model menggunakan data latih.\n",
        "\n",
        "Berikut adalah rekomendasi tahapannya.\n",
        "1. Pilih algoritma klasifikasi yang sesuai, seperti Logistic Regression, Decision Tree, Random Forest, atau K-Nearest Neighbors (KNN).\n",
        "2. Latih model menggunakan data latih."
      ]
    },
    {
      "cell_type": "code",
      "execution_count": 24,
      "metadata": {
        "colab": {
          "base_uri": "https://localhost:8080/"
        },
        "id": "sBnoRHedu0R3",
        "outputId": "e29f1f39-693d-431f-a91d-d995c6a494ea"
      },
      "outputs": [
        {
          "output_type": "stream",
          "name": "stdout",
          "text": [
            "Random Forest Model: RandomForestClassifier(random_state=42)\n",
            "K-Nearest Neighbors Model: KNeighborsClassifier()\n"
          ]
        }
      ],
      "source": [
        "model_rf = RandomForestClassifier(random_state=42)\n",
        "model_knn = KNeighborsClassifier()\n",
        "\n",
        "# Melatih model\n",
        "model_rf.fit(X_train, y_train)\n",
        "model_knn.fit(X_train, y_train)\n",
        "\n",
        "print(\"Random Forest Model:\", model_rf)\n",
        "print(\"K-Nearest Neighbors Model:\", model_knn)"
      ]
    },
    {
      "cell_type": "markdown",
      "metadata": {
        "id": "ergzChZFEL-O"
      },
      "source": [
        "## **b. Evaluasi Model Klasifikasi**"
      ]
    },
    {
      "cell_type": "markdown",
      "metadata": {
        "id": "zOm68u-7NpLT"
      },
      "source": [
        "Berikut adalah **rekomendasi** tahapannya.\n",
        "1. Lakukan prediksi menggunakan data uji.\n",
        "2. Hitung metrik evaluasi seperti Accuracy dan F1-Score (Opsional: Precision dan Recall).\n",
        "3. Buat confusion matrix untuk melihat detail prediksi benar dan salah."
      ]
    },
    {
      "cell_type": "code",
      "execution_count": 25,
      "metadata": {
        "colab": {
          "base_uri": "https://localhost:8080/",
          "height": 893
        },
        "id": "tMq4QAssNLip",
        "outputId": "63e253eb-de03-4d23-e122-559c712ce76a"
      },
      "outputs": [
        {
          "output_type": "stream",
          "name": "stdout",
          "text": [
            "\n",
            "Evaluasi Model Random Forest:\n",
            "              precision    recall  f1-score   support\n",
            "\n",
            "           0       1.00      1.00      1.00       210\n",
            "           1       1.00      1.00      1.00       190\n",
            "           2       1.00      1.00      1.00       231\n",
            "           3       1.00      1.00      1.00       209\n",
            "\n",
            "    accuracy                           1.00       840\n",
            "   macro avg       1.00      1.00      1.00       840\n",
            "weighted avg       1.00      1.00      1.00       840\n",
            "\n",
            "Accuracy Random Forest: 1.0\n",
            "\n",
            "Evaluasi Model KNN:\n",
            "              precision    recall  f1-score   support\n",
            "\n",
            "           0       1.00      1.00      1.00       210\n",
            "           1       1.00      1.00      1.00       190\n",
            "           2       1.00      1.00      1.00       231\n",
            "           3       1.00      1.00      1.00       209\n",
            "\n",
            "    accuracy                           1.00       840\n",
            "   macro avg       1.00      1.00      1.00       840\n",
            "weighted avg       1.00      1.00      1.00       840\n",
            "\n",
            "Accuracy KNN: 1.0\n"
          ]
        },
        {
          "output_type": "display_data",
          "data": {
            "text/plain": [
              "<Figure size 1200x500 with 4 Axes>"
            ],
            "image/png": "[encoded data removed]"
          },
          "metadata": {}
        }
      ],
      "source": [
        "# Prediksi\n",
        "y_pred_rf = model_rf.predict(X_test)\n",
        "y_pred_knn = model_knn.predict(X_test)\n",
        "\n",
        "# Evaluasi Model Random Forest\n",
        "print(\"\\nEvaluasi Model Random Forest:\")\n",
        "print(classification_report(y_test, y_pred_rf))\n",
        "print(\"Accuracy Random Forest:\", accuracy_score(y_test, y_pred_rf))\n",
        "\n",
        "# Evaluasi Model KNN\n",
        "print(\"\\nEvaluasi Model KNN:\")\n",
        "print(classification_report(y_test, y_pred_knn))\n",
        "print(\"Accuracy KNN:\", accuracy_score(y_test, y_pred_knn))\n",
        "\n",
        "# Confusion Matrix\n",
        "fig, axes = plt.subplots(1, 2, figsize=(12, 5))\n",
        "\n",
        "sns.heatmap(confusion_matrix(y_test, y_pred_rf), annot=True, fmt='d', cmap='Blues', ax=axes[0])\n",
        "axes[0].set_title(\"Confusion Matrix - Random Forest\")\n",
        "\n",
        "sns.heatmap(confusion_matrix(y_test, y_pred_knn), annot=True, fmt='d', cmap='Oranges', ax=axes[1])\n",
        "axes[1].set_title(\"Confusion Matrix - KNN\")\n",
        "\n",
        "plt.show()"
      ]
    },
    {
      "cell_type": "markdown",
      "metadata": {
        "id": "H4_9OwrsXZlz"
      },
      "source": [
        "## Hasil Evaluasi\n",
        "- Kedua model memiliki akurasi sempurna (100%), yang menunjukkan bahwa semua prediksi pada data uji benar tanpa kesalahan.\n",
        "- Confusion matrix menunjukkan bahwa tidak ada kesalahan klasifikasi pada kedua model (semua nilai berada pada diagonal utama).\n",
        "- Hasil ini mungkin menunjukkan overfitting, di mana model terlalu sempurna pada data latih dan uji, sehingga perlu diperiksa lebih lanjut dengan cross-validation."
      ]
    },
    {
      "cell_type": "markdown",
      "metadata": {
        "id": "ph9yIYDXEPuB"
      },
      "source": [
        "## **c. Tuning Model Klasifikasi (Optional)**"
      ]
    },
    {
      "cell_type": "markdown",
      "metadata": {
        "id": "-Bikx3LINv5e"
      },
      "source": [
        "Gunakan GridSearchCV, RandomizedSearchCV, atau metode lainnya untuk mencari kombinasi hyperparameter terbaik"
      ]
    },
    {
      "cell_type": "code",
      "execution_count": 26,
      "metadata": {
        "colab": {
          "base_uri": "https://localhost:8080/"
        },
        "id": "winbFzb8NL95",
        "outputId": "a01199bb-8744-4ed6-a2b6-ffd2e4a6d730"
      },
      "outputs": [
        {
          "output_type": "stream",
          "name": "stdout",
          "text": [
            "\n",
            "Best parameters for Random Forest: {'max_depth': 10, 'min_samples_split': 2, 'n_estimators': 50}\n",
            "Best parameters for KNN: {'metric': 'euclidean', 'n_neighbors': 3, 'weights': 'uniform'}\n"
          ]
        }
      ],
      "source": [
        "# Hyperparameter tuning untuk Random Forest\n",
        "param_grid_rf = {\n",
        "    'n_estimators': [50, 100, 150],\n",
        "    'max_depth': [10, 20, None],\n",
        "    'min_samples_split': [2, 5, 10]\n",
        "}\n",
        "grid_search_rf = GridSearchCV(RandomForestClassifier(random_state=42), param_grid_rf, cv=5, scoring='accuracy', n_jobs=-1)\n",
        "grid_search_rf.fit(X_train, y_train)\n",
        "\n",
        "# Hyperparameter tuning untuk KNN\n",
        "param_grid_knn = {\n",
        "    'n_neighbors': [3, 5, 7, 9],\n",
        "    'weights': ['uniform', 'distance'],\n",
        "    'metric': ['euclidean', 'manhattan']\n",
        "}\n",
        "grid_search_knn = GridSearchCV(KNeighborsClassifier(), param_grid_knn, cv=5, scoring='accuracy', n_jobs=-1)\n",
        "grid_search_knn.fit(X_train, y_train)\n",
        "\n",
        "# Menampilkan hyperparameter terbaik\n",
        "print(\"\\nBest parameters for Random Forest:\", grid_search_rf.best_params_)\n",
        "print(\"Best parameters for KNN:\", grid_search_knn.best_params_)\n",
        "\n",
        "# Menggunakan model terbaik\n",
        "best_rf = grid_search_rf.best_estimator_\n",
        "best_knn = grid_search_knn.best_estimator_"
      ]
    },
    {
      "cell_type": "markdown",
      "metadata": {
        "id": "hE7pqlEPEYzI"
      },
      "source": [
        "## **d. Evaluasi Model Klasifikasi setelah Tuning (Optional)**"
      ]
    },
    {
      "cell_type": "markdown",
      "metadata": {
        "id": "feaPESoeN0zz"
      },
      "source": [
        "Berikut adalah rekomendasi tahapannya.\n",
        "1. Gunakan model dengan hyperparameter terbaik.\n",
        "2. Hitung ulang metrik evaluasi untuk melihat apakah ada peningkatan performa."
      ]
    },
    {
      "cell_type": "code",
      "execution_count": 27,
      "metadata": {
        "colab": {
          "base_uri": "https://localhost:8080/",
          "height": 893
        },
        "id": "HTXZRvEeNMb1",
        "outputId": "94e81a50-1b9f-4354-8bc9-3014bd73de5e"
      },
      "outputs": [
        {
          "output_type": "stream",
          "name": "stdout",
          "text": [
            "\n",
            "Evaluasi Model Random Forest Setelah Tuning:\n",
            "              precision    recall  f1-score   support\n",
            "\n",
            "           0       1.00      1.00      1.00       210\n",
            "           1       1.00      1.00      1.00       190\n",
            "           2       1.00      1.00      1.00       231\n",
            "           3       1.00      1.00      1.00       209\n",
            "\n",
            "    accuracy                           1.00       840\n",
            "   macro avg       1.00      1.00      1.00       840\n",
            "weighted avg       1.00      1.00      1.00       840\n",
            "\n",
            "Accuracy Random Forest (Tuned): 1.0\n",
            "\n",
            "Evaluasi Model KNN Setelah Tuning:\n",
            "              precision    recall  f1-score   support\n",
            "\n",
            "           0       1.00      1.00      1.00       210\n",
            "           1       1.00      1.00      1.00       190\n",
            "           2       1.00      1.00      1.00       231\n",
            "           3       1.00      1.00      1.00       209\n",
            "\n",
            "    accuracy                           1.00       840\n",
            "   macro avg       1.00      1.00      1.00       840\n",
            "weighted avg       1.00      1.00      1.00       840\n",
            "\n",
            "Accuracy KNN (Tuned): 1.0\n"
          ]
        },
        {
          "output_type": "display_data",
          "data": {
            "text/plain": [
              "<Figure size 1200x500 with 4 Axes>"
            ],
            "image/png": "[encoded data removed]"
          },
          "metadata": {}
        }
      ],
      "source": [
        "# Prediksi ulang dengan model terbaik\n",
        "y_pred_rf_tuned = best_rf.predict(X_test)\n",
        "y_pred_knn_tuned = best_knn.predict(X_test)\n",
        "\n",
        "# Evaluasi ulang model setelah tuning\n",
        "print(\"\\nEvaluasi Model Random Forest Setelah Tuning:\")\n",
        "print(classification_report(y_test, y_pred_rf_tuned))\n",
        "print(\"Accuracy Random Forest (Tuned):\", accuracy_score(y_test, y_pred_rf_tuned))\n",
        "\n",
        "print(\"\\nEvaluasi Model KNN Setelah Tuning:\")\n",
        "print(classification_report(y_test, y_pred_knn_tuned))\n",
        "print(\"Accuracy KNN (Tuned):\", accuracy_score(y_test, y_pred_knn_tuned))\n",
        "\n",
        "# Visualisasi Confusion Matrix setelah tuning\n",
        "fig, axes = plt.subplots(1, 2, figsize=(12, 5))\n",
        "\n",
        "sns.heatmap(confusion_matrix(y_test, y_pred_rf_tuned), annot=True, fmt='d', cmap='Blues', ax=axes[0])\n",
        "axes[0].set_title(\"Confusion Matrix - Random Forest (Tuned)\")\n",
        "\n",
        "sns.heatmap(confusion_matrix(y_test, y_pred_knn_tuned), annot=True, fmt='d', cmap='Oranges', ax=axes[1])\n",
        "axes[1].set_title(\"Confusion Matrix - KNN (Tuned)\")\n",
        "\n",
        "plt.show()"
      ]
    },
    {
      "cell_type": "markdown",
      "metadata": {
        "id": "ZRsOdm4uEgAW"
      },
      "source": [
        "## **e. Analisis Hasil Evaluasi Model Klasifikasi**"
      ]
    },
    {
      "cell_type": "markdown",
      "metadata": {
        "id": "HxcJCXzb9fEu"
      },
      "source": [
        "#### 1. Perbandingan Hasil Evaluasi Sebelum dan Setelah Tuning  \n",
        "Dari hasil evaluasi model sebelum dan setelah tuning:\n",
        "- **Random Forest** dan **K-Nearest Neighbors (KNN)** sama-sama mencapai **akurasi 100%** setelah tuning.\n",
        "- Tidak ada kesalahan klasifikasi pada confusion matrix setelah tuning, yang berarti setiap kelas terprediksi dengan benar."
      ]
    },
    {
      "cell_type": "code",
      "source": [
        "models = ['Random Forest', 'KNN']\n",
        "accuracy_before = [1.0, 1.0]\n",
        "accuracy_after = [1.0, 1.0]\n",
        "f1_before = [1.0, 1.0]\n",
        "f1_after = [1.0, 1.0]\n",
        "\n",
        "x = np.arange(len(models))\n",
        "width = 0.35\n",
        "\n",
        "fig, axs = plt.subplots(1, 2, figsize=(12, 5))\n",
        "\n",
        "# Visualisasi Akurasi\n",
        "axs[0].bar(x - width/2, accuracy_before, width, label='Before Tuning')\n",
        "axs[0].bar(x + width/2, accuracy_after, width, label='After Tuning')\n",
        "axs[0].set_ylabel('Accuracy')\n",
        "axs[0].set_title('Perbandingan Akurasi Model')\n",
        "axs[0].set_xticks(x)\n",
        "axs[0].set_xticklabels(models)\n",
        "axs[0].set_ylim(0.9, 1.05)\n",
        "axs[0].legend()\n",
        "\n",
        "# Visualisasi F1 Score\n",
        "axs[1].bar(x - width/2, f1_before, width, label='Before Tuning')\n",
        "axs[1].bar(x + width/2, f1_after, width, label='After Tuning')\n",
        "axs[1].set_ylabel('F1 Score')\n",
        "axs[1].set_title('Perbandingan F1 Score Model')\n",
        "axs[1].set_xticks(x)\n",
        "axs[1].set_xticklabels(models)\n",
        "axs[1].set_ylim(0.9, 1.05)\n",
        "axs[1].legend()\n",
        "\n",
        "plt.tight_layout()\n",
        "plt.show()"
      ],
      "metadata": {
        "colab": {
          "base_uri": "https://localhost:8080/",
          "height": 360
        },
        "id": "VzBZdXfTF5QJ",
        "outputId": "b3a626b8-991f-4592-8377-e050e1544d08"
      },
      "execution_count": 28,
      "outputs": [
        {
          "output_type": "display_data",
          "data": {
            "text/plain": [
              "<Figure size 1200x500 with 2 Axes>"
            ],
            "image/png": "[encoded data removed]"
          },
          "metadata": {}
        }
      ]
    },
    {
      "cell_type": "markdown",
      "source": [
        "#### 2. Identifikasi Kelemahan Model  \n",
        "- **Tidak ada Precision atau Recall yang rendah** karena model mencapai skor sempurna untuk semua kelas.  \n",
        "- **Potensi Overfitting**:  \n",
        "  - Akurasi 100% pada data uji menandakan model bisa terlalu menyesuaikan data latih (overfitting).\n",
        "  - Performa model perlu diuji pada dataset baru untuk memastikan generalisasi yang baik."
      ],
      "metadata": {
        "id": "bmIFRXrJGD-G"
      }
    },
    {
      "cell_type": "code",
      "source": [
        "model_names = ['Random Forest', 'KNN']\n",
        "train_acc = [1.0, 1.0]\n",
        "test_acc = [1.0, 1.0]\n",
        "\n",
        "x = np.arange(len(model_names))\n",
        "width = 0.35\n",
        "\n",
        "plt.figure(figsize=(8, 5))\n",
        "plt.bar(x - width/2, train_acc, width, label='Train Accuracy')\n",
        "plt.bar(x + width/2, test_acc, width, label='Test Accuracy')\n",
        "plt.ylim(0.9, 1.05)\n",
        "plt.ylabel('Accuracy')\n",
        "plt.title('Train vs Test Accuracy (Potensi Overfitting)')\n",
        "plt.xticks(x, model_names)\n",
        "plt.legend()\n",
        "plt.show()"
      ],
      "metadata": {
        "colab": {
          "base_uri": "https://localhost:8080/",
          "height": 468
        },
        "id": "D4KXoL2KI0QN",
        "outputId": "5ab48ef3-6354-43c1-858c-f101907faeba"
      },
      "execution_count": 29,
      "outputs": [
        {
          "output_type": "display_data",
          "data": {
            "text/plain": [
              "<Figure size 800x500 with 1 Axes>"
            ],
            "image/png": "[encoded data removed]"
          },
          "metadata": {}
        }
      ]
    },
    {
      "cell_type": "markdown",
      "source": [
        "#### 3. Rekomendasi Tindakan Lanjutan  \n",
        "1. Model perlu diuji dengan dataset independen untuk melihat apakah performanya tetap tinggi.  \n",
        "2. Penggunaan **k-fold cross-validation** dengan lebih banyak lipatan (misalnya 10-fold) bisa memberikan gambaran performa yang lebih stabil.  \n",
        "3. Mencoba model lain seperti **Gradient Boosting** atau **Support Vector Machine (SVM)** untuk perbandingan lebih lanjut.  "
      ],
      "metadata": {
        "id": "A45pXTWxNZdQ"
      }
    },
    {
      "cell_type": "code",
      "source": [
        "# One-hot encoding jika ada fitur kategorikal\n",
        "X_encoded = pd.get_dummies(X)\n",
        "\n",
        "# Cross-validation 10-fold\n",
        "cv_scores_rf = cross_val_score(model_rf, X_encoded, y, cv=10, scoring='accuracy')\n",
        "cv_scores_knn = cross_val_score(model_knn, X_encoded, y, cv=10, scoring='accuracy')\n",
        "\n",
        "print(\"Random Forest - Cross-Validation Accuracy (10-Fold):\")\n",
        "print(\"Scores per fold:\", cv_scores_rf)\n",
        "print(\"Mean Accuracy:\", cv_scores_rf.mean())\n",
        "print()\n",
        "\n",
        "print(\"KNN - Cross-Validation Accuracy (10-Fold):\")\n",
        "print(\"Scores per fold:\", cv_scores_knn)\n",
        "print(\"Mean Accuracy:\", cv_scores_knn.mean())\n",
        "\n",
        "plt.boxplot([cv_scores_rf, cv_scores_knn], labels=[\"Random Forest\", \"KNN\"])\n",
        "plt.title(\"10-Fold Cross-Validation Accuracy\")\n",
        "plt.ylabel(\"Accuracy\")\n",
        "plt.grid(True)\n",
        "plt.show()"
      ],
      "metadata": {
        "colab": {
          "base_uri": "https://localhost:8080/",
          "height": 646
        },
        "id": "8a2MphQGNQke",
        "outputId": "fe8d5435-4854-48d5-bdef-29b93b17de5e"
      },
      "execution_count": 30,
      "outputs": [
        {
          "output_type": "stream",
          "name": "stdout",
          "text": [
            "Random Forest - Cross-Validation Accuracy (10-Fold):\n",
            "Scores per fold: [1. 1. 1. 1. 1. 1. 1. 1. 1. 1.]\n",
            "Mean Accuracy: 1.0\n",
            "\n",
            "KNN - Cross-Validation Accuracy (10-Fold):\n",
            "Scores per fold: [0.32619048 0.3452381  0.40238095 0.63333333 0.3        0.2\n",
            " 0.29047619 0.36038186 0.3627685  0.27446301]\n",
            "Mean Accuracy: 0.34952324127741785\n"
          ]
        },
        {
          "output_type": "stream",
          "name": "stderr",
          "text": [
            "<ipython-input-30-fdaf6912b1b5>:17: MatplotlibDeprecationWarning: The 'labels' parameter of boxplot() has been renamed 'tick_labels' since Matplotlib 3.9; support for the old name will be dropped in 3.11.\n",
            "  plt.boxplot([cv_scores_rf, cv_scores_knn], labels=[\"Random Forest\", \"KNN\"])\n"
          ]
        },
        {
          "output_type": "display_data",
          "data": {
            "text/plain": [
              "<Figure size 640x480 with 1 Axes>"
            ],
            "image/png": "[encoded data removed]"
          },
          "metadata": {}
        }
      ]
    },
    {
      "cell_type": "code",
      "execution_count": 31,
      "metadata": {
        "colab": {
          "base_uri": "https://localhost:8080/"
        },
        "id": "51c5b93c",
        "outputId": "3e67eb8e-e609-4a02-8f2c-b5805f9a06b8"
      },
      "outputs": [
        {
          "output_type": "stream",
          "name": "stdout",
          "text": [
            "=== Training Set Evaluation ===\n",
            "Random Forest - Accuracy: 1.0\n",
            "Random Forest - F1 Score: 1.0\n",
            "KNN - Accuracy: 1.0\n",
            "KNN - F1 Score: 1.0\n",
            "\n",
            "=== Testing Set Evaluation ===\n",
            "Random Forest - Accuracy: 1.0\n",
            "Random Forest - F1 Score: 1.0\n",
            "KNN - Accuracy: 1.0\n",
            "KNN - F1 Score: 1.0\n"
          ]
        }
      ],
      "source": [
        "# --- Evaluasi pada data Training ---\n",
        "y_train_pred_rf = model_rf.predict(X_train)\n",
        "y_train_pred_knn = model_knn.predict(X_train)\n",
        "\n",
        "print(\"=== Training Set Evaluation ===\")\n",
        "print(\"Random Forest - Accuracy:\", accuracy_score(y_train, y_train_pred_rf))\n",
        "print(\"Random Forest - F1 Score:\", f1_score(y_train, y_train_pred_rf, average='weighted'))\n",
        "\n",
        "print(\"KNN - Accuracy:\", accuracy_score(y_train, y_train_pred_knn))\n",
        "print(\"KNN - F1 Score:\", f1_score(y_train, y_train_pred_knn, average='weighted'))\n",
        "\n",
        "# --- Evaluasi pada data Testing ---\n",
        "print(\"\\n=== Testing Set Evaluation ===\")\n",
        "print(\"Random Forest - Accuracy:\", accuracy_score(y_test, y_pred_rf))\n",
        "print(\"Random Forest - F1 Score:\", f1_score(y_test, y_pred_rf, average='weighted'))\n",
        "\n",
        "print(\"KNN - Accuracy:\", accuracy_score(y_test, y_pred_knn))\n",
        "print(\"KNN - F1 Score:\", f1_score(y_test, y_pred_knn, average='weighted'))"
      ]
    }
  ],
  "metadata": {
    "colab": {
      "provenance": []
    },
    "kernelspec": {
      "display_name": "Python 3",
      "name": "python3"
    },
    "language_info": {
      "name": "python"
    }
  },
  "nbformat": 4,
  "nbformat_minor": 0
}